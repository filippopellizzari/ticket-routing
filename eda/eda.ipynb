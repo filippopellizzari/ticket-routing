{
 "cells": [
  {
   "cell_type": "code",
   "execution_count": 14,
   "metadata": {},
   "outputs": [],
   "source": [
    "import pandas as pd"
   ]
  },
  {
   "cell_type": "code",
   "execution_count": 24,
   "metadata": {},
   "outputs": [],
   "source": [
    "import os\n",
    "ROOT_DIR = '/Users/filippopellizzari/code/ticket-routing/'\n",
    "os.chdir(ROOT_DIR)"
   ]
  },
  {
   "cell_type": "code",
   "execution_count": 51,
   "metadata": {},
   "outputs": [],
   "source": [
    "df = pd.read_parquet(\"data/complaints.parquet\")"
   ]
  },
  {
   "cell_type": "code",
   "execution_count": 52,
   "metadata": {},
   "outputs": [],
   "source": [
    "df.columns = df.columns.str.removeprefix('_').str.removeprefix('source.')"
   ]
  },
  {
   "cell_type": "code",
   "execution_count": 53,
   "metadata": {},
   "outputs": [],
   "source": [
    "not_useful=['index','type','id','score','company','company_public_response']"
   ]
  },
  {
   "cell_type": "code",
   "execution_count": 60,
   "metadata": {},
   "outputs": [
    {
     "data": {
      "text/plain": [
       "state\n",
       "CA                                      14009\n",
       "NY                                       8780\n",
       "FL                                       6848\n",
       "TX                                       5864\n",
       "IL                                       4129\n",
       "                                        ...  \n",
       "UNITED STATES MINOR OUTLYING ISLANDS        3\n",
       "MH                                          3\n",
       "AA                                          3\n",
       "AS                                          1\n",
       "PW                                          1\n",
       "Name: count, Length: 62, dtype: int64"
      ]
     },
     "execution_count": 60,
     "metadata": {},
     "output_type": "execute_result"
    }
   ],
   "source": [
    "df.state.value_counts()"
   ]
  },
  {
   "cell_type": "code",
   "execution_count": 73,
   "metadata": {},
   "outputs": [
    {
     "data": {
      "text/plain": [
       "index                         object\n",
       "type                          object\n",
       "id                            object\n",
       "score                        float64\n",
       "tags                          object\n",
       "zip_code                      object\n",
       "complaint_id                  object\n",
       "issue                         object\n",
       "date_received                 object\n",
       "state                         object\n",
       "consumer_disputed             object\n",
       "product                       object\n",
       "company_response              object\n",
       "company                       object\n",
       "submitted_via                 object\n",
       "date_sent_to_company          object\n",
       "company_public_response       object\n",
       "sub_product                   object\n",
       "timely                        object\n",
       "complaint_what_happened       object\n",
       "sub_issue                     object\n",
       "consumer_consent_provided     object\n",
       "dtype: object"
      ]
     },
     "execution_count": 73,
     "metadata": {},
     "output_type": "execute_result"
    }
   ],
   "source": [
    "df.dtypes"
   ]
  },
  {
   "cell_type": "code",
   "execution_count": 61,
   "metadata": {},
   "outputs": [
    {
     "data": {
      "text/plain": [
       "Index(['index', 'type', 'id', 'score', 'tags', 'zip_code', 'complaint_id',\n",
       "       'issue', 'date_received', 'state', 'consumer_disputed', 'product',\n",
       "       'company_response', 'company', 'submitted_via', 'date_sent_to_company',\n",
       "       'company_public_response', 'sub_product', 'timely',\n",
       "       'complaint_what_happened', 'sub_issue', 'consumer_consent_provided'],\n",
       "      dtype='object')"
      ]
     },
     "execution_count": 61,
     "metadata": {},
     "output_type": "execute_result"
    }
   ],
   "source": [
    "df.columns"
   ]
  },
  {
   "cell_type": "code",
   "execution_count": 89,
   "metadata": {},
   "outputs": [
    {
     "data": {
      "text/plain": [
       "'Good morning my name is XXXX XXXX and I appreciate it if you could help me put a stop to Chase Bank cardmember services. \\nIn 2018 I wrote to Chase asking for debt verification and what they sent me a statement which is not acceptable. I am asking the bank to validate the debt. Instead I been receiving mail every month from them attempting to collect a debt. \\nI have a right to know this information as a consumer. \\n\\nChase account # XXXX XXXX XXXX XXXX Thanks in advance for your help.'"
      ]
     },
     "execution_count": 89,
     "metadata": {},
     "output_type": "execute_result"
    }
   ],
   "source": [
    "df['complaint_what_happened'].loc[1]"
   ]
  },
  {
   "cell_type": "code",
   "execution_count": 90,
   "metadata": {},
   "outputs": [
    {
     "data": {
      "text/plain": [
       "'Written notification about debt'"
      ]
     },
     "execution_count": 90,
     "metadata": {},
     "output_type": "execute_result"
    }
   ],
   "source": [
    "df['issue'].loc[1]"
   ]
  },
  {
   "cell_type": "code",
   "execution_count": 91,
   "metadata": {},
   "outputs": [
    {
     "data": {
      "text/plain": [
       "\"Didn't receive enough information to verify debt\""
      ]
     },
     "execution_count": 91,
     "metadata": {},
     "output_type": "execute_result"
    }
   ],
   "source": [
    "df['sub_issue'].loc[1]"
   ]
  },
  {
   "cell_type": "code",
   "execution_count": 94,
   "metadata": {},
   "outputs": [
    {
     "data": {
      "text/plain": [
       "consumer_consent_provided\n",
       "N/A                     42847\n",
       "Consent provided        21077\n",
       "Consent not provided    12285\n",
       "Other                     991\n",
       "Consent withdrawn         105\n",
       "Name: count, dtype: int64"
      ]
     },
     "execution_count": 94,
     "metadata": {},
     "output_type": "execute_result"
    }
   ],
   "source": [
    "df['consumer_consent_provided'].value_counts()"
   ]
  },
  {
   "cell_type": "code",
   "execution_count": 72,
   "metadata": {},
   "outputs": [
    {
     "data": {
      "text/html": [
       "<div>\n",
       "<style scoped>\n",
       "    .dataframe tbody tr th:only-of-type {\n",
       "        vertical-align: middle;\n",
       "    }\n",
       "\n",
       "    .dataframe tbody tr th {\n",
       "        vertical-align: top;\n",
       "    }\n",
       "\n",
       "    .dataframe thead th {\n",
       "        text-align: right;\n",
       "    }\n",
       "</style>\n",
       "<table border=\"1\" class=\"dataframe\">\n",
       "  <thead>\n",
       "    <tr style=\"text-align: right;\">\n",
       "      <th></th>\n",
       "      <th>date_received</th>\n",
       "      <th>date_sent_to_company</th>\n",
       "    </tr>\n",
       "  </thead>\n",
       "  <tbody>\n",
       "    <tr>\n",
       "      <th>3</th>\n",
       "      <td>2017-09-13T12:00:00-05:00</td>\n",
       "      <td>2017-09-14T12:00:00-05:00</td>\n",
       "    </tr>\n",
       "    <tr>\n",
       "      <th>5</th>\n",
       "      <td>2019-06-13T12:00:00-05:00</td>\n",
       "      <td>2019-06-14T12:00:00-05:00</td>\n",
       "    </tr>\n",
       "    <tr>\n",
       "      <th>7</th>\n",
       "      <td>2019-05-15T12:00:00-05:00</td>\n",
       "      <td>2019-05-21T12:00:00-05:00</td>\n",
       "    </tr>\n",
       "    <tr>\n",
       "      <th>8</th>\n",
       "      <td>2019-08-22T12:00:00-05:00</td>\n",
       "      <td>2019-08-23T12:00:00-05:00</td>\n",
       "    </tr>\n",
       "    <tr>\n",
       "      <th>9</th>\n",
       "      <td>2019-06-11T12:00:00-05:00</td>\n",
       "      <td>2019-06-17T12:00:00-05:00</td>\n",
       "    </tr>\n",
       "    <tr>\n",
       "      <th>...</th>\n",
       "      <td>...</td>\n",
       "      <td>...</td>\n",
       "    </tr>\n",
       "    <tr>\n",
       "      <th>78298</th>\n",
       "      <td>2019-01-30T12:00:00-05:00</td>\n",
       "      <td>2019-01-31T12:00:00-05:00</td>\n",
       "    </tr>\n",
       "    <tr>\n",
       "      <th>78305</th>\n",
       "      <td>2018-12-17T12:00:00-05:00</td>\n",
       "      <td>2018-12-18T12:00:00-05:00</td>\n",
       "    </tr>\n",
       "    <tr>\n",
       "      <th>78306</th>\n",
       "      <td>2018-12-12T12:00:00-05:00</td>\n",
       "      <td>2018-12-18T12:00:00-05:00</td>\n",
       "    </tr>\n",
       "    <tr>\n",
       "      <th>78308</th>\n",
       "      <td>2018-12-20T12:00:00-05:00</td>\n",
       "      <td>2018-12-21T12:00:00-05:00</td>\n",
       "    </tr>\n",
       "    <tr>\n",
       "      <th>78312</th>\n",
       "      <td>2016-07-06T12:00:00-05:00</td>\n",
       "      <td>2016-07-07T12:00:00-05:00</td>\n",
       "    </tr>\n",
       "  </tbody>\n",
       "</table>\n",
       "<p>33565 rows × 2 columns</p>\n",
       "</div>"
      ],
      "text/plain": [
       "                   date_received       date_sent_to_company\n",
       "3      2017-09-13T12:00:00-05:00  2017-09-14T12:00:00-05:00\n",
       "5      2019-06-13T12:00:00-05:00  2019-06-14T12:00:00-05:00\n",
       "7      2019-05-15T12:00:00-05:00  2019-05-21T12:00:00-05:00\n",
       "8      2019-08-22T12:00:00-05:00  2019-08-23T12:00:00-05:00\n",
       "9      2019-06-11T12:00:00-05:00  2019-06-17T12:00:00-05:00\n",
       "...                          ...                        ...\n",
       "78298  2019-01-30T12:00:00-05:00  2019-01-31T12:00:00-05:00\n",
       "78305  2018-12-17T12:00:00-05:00  2018-12-18T12:00:00-05:00\n",
       "78306  2018-12-12T12:00:00-05:00  2018-12-18T12:00:00-05:00\n",
       "78308  2018-12-20T12:00:00-05:00  2018-12-21T12:00:00-05:00\n",
       "78312  2016-07-06T12:00:00-05:00  2016-07-07T12:00:00-05:00\n",
       "\n",
       "[33565 rows x 2 columns]"
      ]
     },
     "execution_count": 72,
     "metadata": {},
     "output_type": "execute_result"
    }
   ],
   "source": [
    "df[df['date_received']!=df['date_sent_to_company']][['date_received','date_sent_to_company']]"
   ]
  },
  {
   "cell_type": "code",
   "execution_count": 80,
   "metadata": {},
   "outputs": [
    {
     "data": {
      "text/plain": [
       " 0      44748\n",
       "-1      10305\n",
       "-2       5078\n",
       "-3       4108\n",
       "-4       3564\n",
       "        ...  \n",
       "-149        1\n",
       "-173        1\n",
       "-186        1\n",
       "-511        1\n",
       "-204        1\n",
       "Name: count, Length: 161, dtype: int64"
      ]
     },
     "execution_count": 80,
     "metadata": {},
     "output_type": "execute_result"
    }
   ],
   "source": [
    "(pd.to_datetime(df['date_received'])-pd.to_datetime(df['date_sent_to_company'])).dt.days.value_counts()"
   ]
  },
  {
   "cell_type": "code",
   "execution_count": 75,
   "metadata": {},
   "outputs": [
    {
     "data": {
      "text/plain": [
       "sub_product\n",
       "Checking account                              17182\n",
       "General-purpose credit card or charge card    10504\n",
       "Other mortgage                                 8447\n",
       "Conventional fixed mortgage                    4892\n",
       "Credit reporting                               4172\n",
       "                                              ...  \n",
       "Gift or merchant card                             4\n",
       "Government benefit payment card                   4\n",
       "ID prepaid card                                   2\n",
       "Medical debt                                      2\n",
       "Electronic Benefit Transfer / EBT card            1\n",
       "Name: count, Length: 72, dtype: int64"
      ]
     },
     "execution_count": 75,
     "metadata": {},
     "output_type": "execute_result"
    }
   ],
   "source": [
    "df['sub_product'].value_counts()"
   ]
  },
  {
   "cell_type": "code",
   "execution_count": 59,
   "metadata": {},
   "outputs": [
    {
     "data": {
      "text/plain": [
       "'2021-05-10T12:00:00-05:00'"
      ]
     },
     "execution_count": 59,
     "metadata": {},
     "output_type": "execute_result"
    }
   ],
   "source": [
    "df['date_received'].max()"
   ]
  },
  {
   "cell_type": "code",
   "execution_count": 34,
   "metadata": {},
   "outputs": [
    {
     "data": {
      "text/plain": [
       "(78313, 22)"
      ]
     },
     "execution_count": 34,
     "metadata": {},
     "output_type": "execute_result"
    }
   ],
   "source": [
    "df.shape"
   ]
  }
 ],
 "metadata": {
  "kernelspec": {
   "display_name": ".venv",
   "language": "python",
   "name": "python3"
  },
  "language_info": {
   "codemirror_mode": {
    "name": "ipython",
    "version": 3
   },
   "file_extension": ".py",
   "mimetype": "text/x-python",
   "name": "python",
   "nbconvert_exporter": "python",
   "pygments_lexer": "ipython3",
   "version": "3.11.5"
  },
  "orig_nbformat": 4
 },
 "nbformat": 4,
 "nbformat_minor": 2
}
